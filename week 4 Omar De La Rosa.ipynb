{
 "cells": [
  {
   "attachments": {},
   "cell_type": "markdown",
   "metadata": {},
   "source": [
    "## Lab Assignment: Introduction to Pandas\n",
    "Student:     **Omar De La Rosa**\n",
    "\n",
    "### Objective: To introduce data manipulation and analysis in Python using Pandas and understand Pandas data structures and basic operations.\n",
    "\n",
    "### Instructions:\n",
    "In this lab assignment, you will be introduced to data manipulation and analysis in Python using Pandas. You will learn how to create and manipulate Pandas data structures, perform basic data analysis and cleaning operations, and apply built-in functions to analyze and transform the data.\n",
    "\n",
    "You will be provided with the following five problems to solve. Please read the problem statement carefully and implement the solution using Pandas.\n",
    "\n",
    "1. Read a CSV file into a Pandas DataFrame.\n",
    "2. Display the first 5 rows of a Pandas DataFrame.\n",
    "3. Display the last 5 rows of a Pandas DataFrame.\n",
    "4. Create a new column in a Pandas DataFrame by combining two existing columns.\n",
    "5. Group a Pandas DataFrame by a specific column and calculate the mean of another column for each group.\n",
    "\n",
    "### Deliverable:\n",
    "Modify this notebook to include the python code as well as any documentation related to your submission.  Submit the notebook as your response in Blackboard.\n",
    "\n",
    "### Grading Criteria:\n",
    "\n",
    "Your lab assignment will be graded based on the following criteria:\n",
    "\n",
    "- Correctness of the implementation\n",
    "- Proper use of basic control structures and functions\n",
    "- Code efficiency\n",
    "- Clarity and readability of the code\n",
    "- Compliance with the instructions and deliverables.\n",
    "\n",
    "### Student Submission\n",
    "1.  Read a CSV file into a Pandas DataFrame."
   ]
  },
  {
   "cell_type": "code",
   "execution_count": 2,
   "metadata": {},
   "outputs": [
    {
     "name": "stderr",
     "output_type": "stream",
     "text": [
      "\n",
      "[notice] A new release of pip is available: 24.0 -> 24.2\n",
      "[notice] To update, run: C:\\Users\\jdlr\\AppData\\Local\\Microsoft\\WindowsApps\\PythonSoftwareFoundation.Python.3.11_qbz5n2kfra8p0\\python.exe -m pip install --upgrade pip\n"
     ]
    },
    {
     "name": "stdout",
     "output_type": "stream",
     "text": [
      "Collecting pandas\n",
      "  Downloading pandas-2.2.3-cp311-cp311-win_amd64.whl.metadata (19 kB)\n",
      "Collecting numpy>=1.23.2 (from pandas)\n",
      "  Downloading numpy-2.1.1-cp311-cp311-win_amd64.whl.metadata (59 kB)\n",
      "     ---------------------------------------- 0.0/59.7 kB ? eta -:--:--\n",
      "     ------ --------------------------------- 10.2/59.7 kB ? eta -:--:--\n",
      "     ------------- ------------------------ 20.5/59.7 kB 330.3 kB/s eta 0:00:01\n",
      "     -------------------------------- ----- 51.2/59.7 kB 440.4 kB/s eta 0:00:01\n",
      "     -------------------------------------- 59.7/59.7 kB 454.2 kB/s eta 0:00:00\n",
      "Requirement already satisfied: python-dateutil>=2.8.2 in c:\\users\\jdlr\\appdata\\local\\packages\\pythonsoftwarefoundation.python.3.11_qbz5n2kfra8p0\\localcache\\local-packages\\python311\\site-packages (from pandas) (2.9.0.post0)\n",
      "Collecting pytz>=2020.1 (from pandas)\n",
      "  Downloading pytz-2024.2-py2.py3-none-any.whl.metadata (22 kB)\n",
      "Collecting tzdata>=2022.7 (from pandas)\n",
      "  Downloading tzdata-2024.2-py2.py3-none-any.whl.metadata (1.4 kB)\n",
      "Requirement already satisfied: six>=1.5 in c:\\users\\jdlr\\appdata\\local\\packages\\pythonsoftwarefoundation.python.3.11_qbz5n2kfra8p0\\localcache\\local-packages\\python311\\site-packages (from python-dateutil>=2.8.2->pandas) (1.16.0)\n",
      "Downloading pandas-2.2.3-cp311-cp311-win_amd64.whl (11.6 MB)\n",
      "   ---------------------------------------- 0.0/11.6 MB ? eta -:--:--\n",
      "   ---------------------------------------- 0.1/11.6 MB 2.2 MB/s eta 0:00:06\n",
      "    --------------------------------------- 0.3/11.6 MB 2.9 MB/s eta 0:00:04\n",
      "   -- ------------------------------------- 0.6/11.6 MB 3.9 MB/s eta 0:00:03\n",
      "   ---- ----------------------------------- 1.3/11.6 MB 6.9 MB/s eta 0:00:02\n",
      "   --------- ------------------------------ 2.6/11.6 MB 11.2 MB/s eta 0:00:01\n",
      "   --------------- ------------------------ 4.5/11.6 MB 16.9 MB/s eta 0:00:01\n",
      "   -------------------------- ------------- 7.7/11.6 MB 24.7 MB/s eta 0:00:01\n",
      "   ---------------------------------------  11.5/11.6 MB 59.5 MB/s eta 0:00:01\n",
      "   ---------------------------------------  11.6/11.6 MB 46.7 MB/s eta 0:00:01\n",
      "   ---------------------------------------- 11.6/11.6 MB 40.9 MB/s eta 0:00:00\n",
      "Downloading numpy-2.1.1-cp311-cp311-win_amd64.whl (12.9 MB)\n",
      "   ---------------------------------------- 0.0/12.9 MB ? eta -:--:--\n",
      "   ---------- ----------------------------- 3.3/12.9 MB 69.7 MB/s eta 0:00:01\n",
      "   --------------------- ------------------ 6.9/12.9 MB 73.7 MB/s eta 0:00:01\n",
      "   --------------------------------- ------ 10.7/12.9 MB 65.2 MB/s eta 0:00:01\n",
      "   ---------------------------------------  12.9/12.9 MB 72.6 MB/s eta 0:00:01\n",
      "   ---------------------------------------- 12.9/12.9 MB 59.5 MB/s eta 0:00:00\n",
      "Downloading pytz-2024.2-py2.py3-none-any.whl (508 kB)\n",
      "   ---------------------------------------- 0.0/508.0 kB ? eta -:--:--\n",
      "   --------------------------------------  501.8/508.0 kB 30.7 MB/s eta 0:00:01\n",
      "   ---------------------------------------- 508.0/508.0 kB 6.4 MB/s eta 0:00:00\n",
      "Downloading tzdata-2024.2-py2.py3-none-any.whl (346 kB)\n",
      "   ---------------------------------------- 0.0/346.6 kB ? eta -:--:--\n",
      "   --------------------------------------- 346.6/346.6 kB 21.0 MB/s eta 0:00:00\n",
      "Installing collected packages: pytz, tzdata, numpy, pandas\n",
      "Successfully installed numpy-2.1.1 pandas-2.2.3 pytz-2024.2 tzdata-2024.2\n"
     ]
    }
   ],
   "source": [
    "!pip install pandas\n",
    "\n",
    "import pandas as pd\n",
    "\n",
    "# Load the CSV file\n",
    "file_path = \"C:\\\\Users\\\\jdlr\\\\Downloads\\\\age_gender.csv\"\n",
    "data = pd.read_csv(file_path)"
   ]
  },
  {
   "attachments": {},
   "cell_type": "markdown",
   "metadata": {},
   "source": [
    "2.  Display the first 5 rows of a Pandas DataFrame."
   ]
  },
  {
   "cell_type": "code",
   "execution_count": 3,
   "metadata": {},
   "outputs": [
    {
     "name": "stdout",
     "output_type": "stream",
     "text": [
      "First 5 rows of the dataset:\n",
      "   age  ethnicity  gender\n",
      "0    1          2       0\n",
      "1    1          2       0\n",
      "2    1          2       0\n",
      "3    1          2       0\n",
      "4    1          2       0\n"
     ]
    }
   ],
   "source": [
    "# Print the first 5 rows of a Pandas DataFrame\n",
    "print(\"First 5 rows of the dataset:\")\n",
    "print(data.head())\n"
   ]
  },
  {
   "attachments": {},
   "cell_type": "markdown",
   "metadata": {},
   "source": [
    "3.  Display the last 5 rows of a Pandas DataFrame."
   ]
  },
  {
   "cell_type": "code",
   "execution_count": 4,
   "metadata": {},
   "outputs": [
    {
     "name": "stdout",
     "output_type": "stream",
     "text": [
      "\n",
      "Last 5 rows of the dataset:\n",
      "       age  ethnicity  gender\n",
      "23700   99          0       1\n",
      "23701   99          1       1\n",
      "23702   99          2       1\n",
      "23703   99          2       1\n",
      "23704   99          0       1\n"
     ]
    }
   ],
   "source": [
    "# Print the last 5 rows of a Pandas DataFrame\n",
    "print(\"\\nLast 5 rows of the dataset:\")\n",
    "print(data.tail())"
   ]
  },
  {
   "attachments": {},
   "cell_type": "markdown",
   "metadata": {},
   "source": [
    "4.  Create a new column in a Pandas DataFrame by combining two existing columns."
   ]
  },
  {
   "cell_type": "code",
   "execution_count": 5,
   "metadata": {},
   "outputs": [
    {
     "name": "stdout",
     "output_type": "stream",
     "text": [
      "\n",
      "DataFrame with the new 'age_ethnicity' column:\n",
      "   age  ethnicity  gender age_ethnicity\n",
      "0    1          2       0           1_2\n",
      "1    1          2       0           1_2\n",
      "2    1          2       0           1_2\n",
      "3    1          2       0           1_2\n",
      "4    1          2       0           1_2\n"
     ]
    }
   ],
   "source": [
    "# Create a new column in a Pandas DataFrame by combining two existing columns\n",
    "data['age_ethnicity'] = data['age'].astype(str) + \"_\" + data['ethnicity'].astype(str)\n",
    "print(\"\\nDataFrame with the new 'age_ethnicity' column:\")\n",
    "print(data.head())"
   ]
  },
  {
   "attachments": {},
   "cell_type": "markdown",
   "metadata": {},
   "source": [
    "5.  Group a Pandas DataFrame by a specific column and calculate the mean of another column for each group."
   ]
  },
  {
   "cell_type": "code",
   "execution_count": 6,
   "metadata": {},
   "outputs": [
    {
     "name": "stdout",
     "output_type": "stream",
     "text": [
      "\n",
      "Mean age by ethnicity:\n",
      "ethnicity\n",
      "0    37.980949\n",
      "1    33.860362\n",
      "2    25.867501\n",
      "3    31.532830\n",
      "4    23.169031\n",
      "Name: age, dtype: float64\n"
     ]
    }
   ],
   "source": [
    "# Group a Pandas DataFrame by a specific column and calculate the mean of another column for each group\n",
    "mean_age_by_ethnicity = data.groupby('ethnicity')['age'].mean()\n",
    "print(\"\\nMean age by ethnicity:\")\n",
    "print(mean_age_by_ethnicity)"
   ]
  }
 ],
 "metadata": {
  "kernelspec": {
   "display_name": "Python 3",
   "language": "python",
   "name": "python3"
  },
  "language_info": {
   "codemirror_mode": {
    "name": "ipython",
    "version": 3
   },
   "file_extension": ".py",
   "mimetype": "text/x-python",
   "name": "python",
   "nbconvert_exporter": "python",
   "pygments_lexer": "ipython3",
   "version": "3.11.9"
  },
  "orig_nbformat": 4
 },
 "nbformat": 4,
 "nbformat_minor": 2
}
